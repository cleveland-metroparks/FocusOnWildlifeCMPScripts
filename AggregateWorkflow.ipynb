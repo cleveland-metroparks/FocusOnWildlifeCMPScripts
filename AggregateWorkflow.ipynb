{
 "cells": [
  {
   "cell_type": "markdown",
   "metadata": {},
   "source": [
    "## Notes from Ali Swanson on how to get started duplicating the aggregate report\n",
    "\n",
    "* Brooke has some code at \n",
    "  * https://github.com/zooniverse/Data-digging/blob/master/example_scripts/wildwatch_kenya/aggregate_survey.py \n",
    "  * that runs basic aggregation on the raw data. \n",
    "\n",
    "* The official aggregation approach and code for Snapshot Serengeti (e.g. www.nature.com/articles/sdata201526) is here:\n",
    "  * https://github.com/mkosmala/SnapshotSerengetiScripts\n",
    "\n",
    "* The Oxford team is working to fix aggregation through the project builder - I'm hopeful we might be able to have something built this summer, but there are no guarantees.\n"
   ]
  },
  {
   "cell_type": "markdown",
   "metadata": {},
   "source": [
    "## Report types, basic\n",
    "\n",
    "* workflow contents - has workflow id, contents version, and question choices\n",
    "* workflows - has workflow id, workflow version, tasks, and some other stuff I don't understand fully\n",
    "* subjects - has subject, project, workflow, subject_set IDs, image names, image links, classification count, retirement date/time, reason\n",
    "  * this is the one to look at to see what has not been retired yet\n",
    "  * could be used to see what is currently linked to workflow\n",
    "* classifications - included user information and ip, workflow_id and version, created at date/time, session information, classification answers, subject data and ids\n"
   ]
  },
  {
   "cell_type": "markdown",
   "metadata": {},
   "source": [
    "## Old aggregation report\n",
    "\n",
    "* "
   ]
  },
  {
   "cell_type": "markdown",
   "metadata": {},
   "source": [
    "## Todo\n",
    "* need to find a way to recreate the aggregate report from either the classifications report\n",
    "* No clue where to even start with this"
   ]
  },
  {
   "cell_type": "code",
   "execution_count": null,
   "metadata": {
    "collapsed": true
   },
   "outputs": [],
   "source": []
  }
 ],
 "metadata": {
  "kernelspec": {
   "display_name": "Python 2",
   "language": "python",
   "name": "python2"
  },
  "language_info": {
   "codemirror_mode": {
    "name": "ipython",
    "version": 2
   },
   "file_extension": ".py",
   "mimetype": "text/x-python",
   "name": "python",
   "nbconvert_exporter": "python",
   "pygments_lexer": "ipython2",
   "version": "2.7.11"
  }
 },
 "nbformat": 4,
 "nbformat_minor": 2
}
